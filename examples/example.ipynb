{
 "cells": [
  {
   "cell_type": "markdown",
   "id": "c397a5f9-7e92-4019-97ab-01374086b1f0",
   "metadata": {},
   "source": [
    "# Forecasting Library Example Usage"
   ]
  },
  {
   "cell_type": "code",
   "execution_count": 1,
   "id": "c3f448b5-bb90-464c-89de-9aedd0fa245d",
   "metadata": {},
   "outputs": [],
   "source": [
    "from forecasting_library.datasets import load_caiso_data\n",
    "from forecasting_library.forecasting.evaluation import backtest_model\n",
    "from forecasting_library.forecasting.forecasting_api import ForecastingAPI\n",
    "from forecasting_library.forecasting.preprocessing import create_preprocessing_pipeline"
   ]
  },
  {
   "cell_type": "markdown",
   "id": "53dded0f-6511-4597-af45-358abaca8522",
   "metadata": {},
   "source": [
    "### Load Data"
   ]
  },
  {
   "cell_type": "code",
   "execution_count": 2,
   "id": "7ae362e4-5bcb-4b35-9ac6-d70a069d40fd",
   "metadata": {},
   "outputs": [],
   "source": [
    "data = load_caiso_data()\n",
    "X = data.drop(columns=[\"CAISO_system_load\"])\n",
    "y = data[\"CAISO_system_load\"]"
   ]
  },
  {
   "cell_type": "markdown",
   "id": "d5079db2-d92c-4ecd-8de2-2a6bc449dabe",
   "metadata": {},
   "source": [
    "### Define Preprocessing Pipeline"
   ]
  },
  {
   "cell_type": "code",
   "execution_count": 3,
   "id": "f546c6d6-400f-44f8-8b92-8ec2178e675c",
   "metadata": {},
   "outputs": [],
   "source": [
    "categorical_cols = [\"hour\"]\n",
    "numeric_cols = [c for c in X if c not in categorical_cols]\n",
    "preprocessing_pipeline = create_preprocessing_pipeline(\n",
    "    numeric_cols, categorical_cols, datetime_column=\"index\"\n",
    ")"
   ]
  },
  {
   "cell_type": "markdown",
   "id": "de4fef6f-3919-4c45-aa82-e1e57752345c",
   "metadata": {},
   "source": [
    "### Define Forecasting Model Params"
   ]
  },
  {
   "cell_type": "code",
   "execution_count": 4,
   "id": "d612d975-e21f-4ed7-a06e-1db6b1cf82ef",
   "metadata": {},
   "outputs": [],
   "source": [
    "model_type = \"xgboost\"\n",
    "\n",
    "# Define the Hyperparameter Grid for the Model\n",
    "param_grid = {\n",
    "    \"n_estimators\": [50, 100],\n",
    "    \"max_depth\": [3, 6],\n",
    "    \"learning_rate\": [0.01, 0.1],\n",
    "    \"subsample\": [0.8, 1.0],\n",
    "}"
   ]
  },
  {
   "cell_type": "markdown",
   "id": "3da0dfc4-7891-4172-9587-d359c83c9315",
   "metadata": {},
   "source": [
    "### Initialize the ForecastingAPI with the Preprocessing Pipeline"
   ]
  },
  {
   "cell_type": "code",
   "execution_count": 5,
   "id": "a2c4f940-d0fd-44f4-8ce0-4d990cbb94a7",
   "metadata": {},
   "outputs": [],
   "source": [
    "forecasting_api = ForecastingAPI(\n",
    "    model_type=model_type, preprocessing_pipeline=preprocessing_pipeline\n",
    ")"
   ]
  },
  {
   "cell_type": "markdown",
   "id": "428839f7-395d-467a-8a25-0dc879989e28",
   "metadata": {},
   "source": [
    "### Split training and test data. \n",
    "Split off the final month (jul 2023) for test"
   ]
  },
  {
   "cell_type": "code",
   "execution_count": 6,
   "id": "37086529-8a34-4fae-affd-218633b0b96c",
   "metadata": {},
   "outputs": [],
   "source": [
    "X_train, X_test, y_train, y_test = forecasting_api.split_train_test(\n",
    "    data, target_col=\"CAISO_system_load\", split_date=\"2022-08-01\"\n",
    ")"
   ]
  },
  {
   "cell_type": "markdown",
   "id": "940e7b9e-e66e-4bdf-ae11-bfd8d29c479d",
   "metadata": {},
   "source": [
    "### Train the Model Using the Complete Training Pipeline \n",
    "(from pre jul 2023 data)"
   ]
  },
  {
   "cell_type": "code",
   "execution_count": 7,
   "id": "d4d6942b-3128-4246-8726-562911972286",
   "metadata": {},
   "outputs": [
    {
     "name": "stdout",
     "output_type": "stream",
     "text": [
      "Fitting 5 folds for each of 16 candidates, totalling 80 fits\n",
      "Best hyperparameters: {'learning_rate': 0.1, 'max_depth': 6, 'n_estimators': 100, 'subsample': 0.8}\n"
     ]
    }
   ],
   "source": [
    "forecasting_api.train_pipeline(X_train, y_train, param_grid=param_grid, test_size=0.2)"
   ]
  },
  {
   "cell_type": "markdown",
   "id": "b1729cf6-ed6c-4537-8eff-b5a917d083a8",
   "metadata": {},
   "source": [
    "### Make Predictions on test data "
   ]
  },
  {
   "cell_type": "code",
   "execution_count": 8,
   "id": "abe39cdf-90b6-4478-bcbf-ccf0ed339603",
   "metadata": {},
   "outputs": [],
   "source": [
    "predictions = forecasting_api.forecast(X_test)"
   ]
  },
  {
   "cell_type": "markdown",
   "id": "156ca59c-7d0c-4fad-9df2-c838947c7d78",
   "metadata": {},
   "source": [
    "### Run Backtesting"
   ]
  },
  {
   "cell_type": "code",
   "execution_count": 9,
   "id": "4458af4c-da00-4692-ab80-8306a421a8e1",
   "metadata": {},
   "outputs": [
    {
     "name": "stdout",
     "output_type": "stream",
     "text": [
      "Average Mean Absolute Percent Error (MAPE) during backtesting: 0.06877690184913757\n"
     ]
    }
   ],
   "source": [
    "import numpy as np\n",
    "backtest_results = forecasting_api.backtest_model(X, y, n_splits=14, test_size=24)\n",
    "average_mape = np.mean([r[\"MAPE\"] for r in backtest_results])\n",
    "print(f\"Average Mean Absolute Percent Error (MAPE) during backtesting: {average_mape}\")"
   ]
  }
 ],
 "metadata": {
  "kernelspec": {
   "display_name": "Python 3 (ipykernel)",
   "language": "python",
   "name": "python3"
  },
  "language_info": {
   "codemirror_mode": {
    "name": "ipython",
    "version": 3
   },
   "file_extension": ".py",
   "mimetype": "text/x-python",
   "name": "python",
   "nbconvert_exporter": "python",
   "pygments_lexer": "ipython3",
   "version": "3.11.4"
  }
 },
 "nbformat": 4,
 "nbformat_minor": 5
}
